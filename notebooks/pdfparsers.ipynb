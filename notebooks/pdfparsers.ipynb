{
 "cells": [
  {
   "cell_type": "code",
   "execution_count": 1,
   "metadata": {},
   "outputs": [],
   "source": [
    "import json\n",
    "import fitz\n",
    "import pdfplumber\n",
    "from pprint import pprint"
   ]
  },
  {
   "cell_type": "code",
   "execution_count": 10,
   "metadata": {},
   "outputs": [],
   "source": [
    "def apply_pdfplumber(file, pdfplumber_config):\n",
    "\n",
    "    with pdfplumber.open(file) as pdf:\n",
    "\n",
    "        pdf_data                = {}\n",
    "        pdf_data[\"metadata\"]    = pdf.metadata\n",
    "        pdf_data[\"pdf_pages\"]   = pdf.pages\n",
    "        for pdf_page in pdf.pages:\n",
    "            page_no                     = pdf_page.page_number\n",
    "            page_temp                   = {}\n",
    "            page_temp[\"objects\"]        = pdf_page.objects\n",
    "            page_temp[\"chars\"]          = pdf_page.chars \n",
    "            page_temp[\"lines\"]          = pdf_page.lines\n",
    "            page_temp[\"rects\"]          = pdf_page.rects\n",
    "            page_temp[\"curves\"]         = pdf_page.curves\n",
    "            page_temp[\"width\"]          = pdf_page.width\n",
    "            page_temp[\"height\"]         = pdf_page.height\n",
    "            page_temp[\"alltext_simple\"] = pdf_page.extract_text(\n",
    "                                                                x_tolerance = pdfplumber_config[\"extract_text_simple\"][\"x_tolerance\"],\n",
    "                                                                y_tolerance = pdfplumber_config[\"extract_text_simple\"][\"y_tolerance\"]\n",
    "                                                               )\n",
    "            page_temp[\"alltext\"]        = pdf_page.extract_text(\n",
    "                                                                x_tolerance = pdfplumber_config[\"extract_text\"][\"x_tolerance\"],\n",
    "                                                                y_tolerance = pdfplumber_config[\"extract_text\"][\"y_tolerance\"],\n",
    "                                                                layout      = pdfplumber_config[\"extract_text\"][\"layout\"],\n",
    "                                                                x_density   = pdfplumber_config[\"extract_text\"][\"x_density\"],\n",
    "                                                                y_density   = pdfplumber_config[\"extract_text\"][\"y_density\"]\n",
    "                                                               )\n",
    "            page_temp[\"words\"]          = pdf_page.extract_words(\n",
    "                                                                 x_tolerance          = pdfplumber_config[\"extract_words\"][\"x_tolerance\"],\n",
    "                                                                 y_tolerance          = pdfplumber_config[\"extract_words\"][\"y_tolerance\"],\n",
    "                                                                 keep_blank_chars     = pdfplumber_config[\"extract_words\"][\"keep_blank_chars\"],\n",
    "                                                                 use_text_flow        = pdfplumber_config[\"extract_words\"][\"use_text_flow\"],\n",
    "                                                                 horizontal_ltr       = pdfplumber_config[\"extract_words\"][\"horizontal_ltr\"],\n",
    "                                                                 vertical_ttb         = pdfplumber_config[\"extract_words\"][\"vertical_ttb\"],\n",
    "                                                                 extra_attrs          = pdfplumber_config[\"extract_words\"][\"extra_attrs\"],\n",
    "                                                                 split_at_punctuation = pdfplumber_config[\"extract_words\"][\"split_at_punctuation\"],\n",
    "                                                                 expand_ligatures     = pdfplumber_config[\"extract_words\"][\"expand_ligatures\"]\n",
    "                                                                )\n",
    "            page_temp[\"alltext_lines\"]  = pdf_page.extract_text_lines(\n",
    "                                                                      layout       = pdfplumber_config[\"extract_text_lines\"][\"layout\"],\n",
    "                                                                      strip        = pdfplumber_config[\"extract_text_lines\"][\"strip\"],\n",
    "                                                                      return_chars = pdfplumber_config[\"extract_text_lines\"][\"return_chars\"]\n",
    "                                                                     )\n",
    "            page_temp[\"alltext_search\"] = pdf_page.search(\n",
    "                                                          pattern       = pdfplumber_config[\"search\"][\"pattern\"],\n",
    "                                                          regex         = pdfplumber_config[\"search\"][\"regex\"],\n",
    "                                                          case          = pdfplumber_config[\"search\"][\"case\"],\n",
    "                                                          main_group    = pdfplumber_config[\"search\"][\"main_group\"],\n",
    "                                                          return_groups = pdfplumber_config[\"search\"][\"return_groups\"],\n",
    "                                                          return_chars  = pdfplumber_config[\"search\"][\"return_chars\"],\n",
    "                                                          layout        = pdfplumber_config[\"search\"][\"layout\"]\n",
    "                                                         )\n",
    "            page_temp[\"alltext_dedupe\"] = pdf_page.dedupe_chars(tolerance=pdfplumber_config[\"dedup_chars\"][\"tolerance\"])\n",
    "            page_temp[\"find_tables\"]    = pdf_page.find_tables(table_settings=pdfplumber_config[\"find_tables\"])\n",
    "            # page_temp[\"find_table\"]     = pdf_page.find_table(table_settings=pdfplumber_config[\"find_table\"])\n",
    "            page_temp[\"extract_tables\"] = pdf_page.extract_tables(table_settings=pdfplumber_config[\"extract_tables\"])\n",
    "            page_temp[\"extract_table\"]  = pdf_page.extract_table(table_settings=pdfplumber_config[\"extract_table\"])\n",
    "            page_temp[\"debug_table\"]    = pdf_page.debug_tablefinder(table_settings=pdfplumber_config[\"debug_table\"])\n",
    "            pdf_data[page_no]           = page_temp\n",
    "\n",
    "    return pdf_data"
   ]
  },
  {
   "cell_type": "code",
   "execution_count": 11,
   "metadata": {},
   "outputs": [],
   "source": [
    "pdfplumber_config_path = r\"D:\\code\\python\\piephi\\bin\\configuration\\properties.json\"\n",
    "\n",
    "with open(pdfplumber_config_path, 'r') as j:\n",
    "    config = json.load(j)\n",
    "\n",
    "ans = apply_pdfplumber(\"D:\\datasets\\pdf\\invoice1.pdf\", config[\"extraction\"][\"pdfplumber\"])"
   ]
  },
  {
   "cell_type": "code",
   "execution_count": null,
   "metadata": {},
   "outputs": [],
   "source": [
    "def apply_pymupdf(file, pymupdf_config):\n",
    "    "
   ]
  }
 ],
 "metadata": {
  "kernelspec": {
   "display_name": "piephi",
   "language": "python",
   "name": "python3"
  },
  "language_info": {
   "codemirror_mode": {
    "name": "ipython",
    "version": 3
   },
   "file_extension": ".py",
   "mimetype": "text/x-python",
   "name": "python",
   "nbconvert_exporter": "python",
   "pygments_lexer": "ipython3",
   "version": "3.8.10"
  }
 },
 "nbformat": 4,
 "nbformat_minor": 2
}
